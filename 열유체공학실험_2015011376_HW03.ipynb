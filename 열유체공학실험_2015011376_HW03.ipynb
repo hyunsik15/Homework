{
  "nbformat": 4,
  "nbformat_minor": 0,
  "metadata": {
    "colab": {
      "name": "열유체공학실험-2015011376-HW03.ipynb",
      "provenance": [],
      "include_colab_link": true
    },
    "kernelspec": {
      "name": "python3",
      "display_name": "Python 3"
    }
  },
  "cells": [
    {
      "cell_type": "markdown",
      "metadata": {
        "id": "view-in-github",
        "colab_type": "text"
      },
      "source": [
        "<a href=\"https://colab.research.google.com/github/hyunsik15/Homework/blob/master/%EC%97%B4%EC%9C%A0%EC%B2%B4%EA%B3%B5%ED%95%99%EC%8B%A4%ED%97%98_2015011376_HW03.ipynb\" target=\"_parent\"><img src=\"https://colab.research.google.com/assets/colab-badge.svg\" alt=\"Open In Colab\"/></a>"
      ]
    },
    {
      "cell_type": "code",
      "metadata": {
        "id": "SjKUO3wTFnGK",
        "colab_type": "code",
        "colab": {
          "base_uri": "https://localhost:8080/",
          "height": 52
        },
        "outputId": "d845cfca-e1c0-45a1-be98-da8392a79204"
      },
      "source": [
        "import numpy as np\n",
        "a = np.arange(1,10)\n",
        "b = int(input(\"하나의 정수를 입력하세요 : \"))\n",
        "print(a*b)"
      ],
      "execution_count": 3,
      "outputs": [
        {
          "output_type": "stream",
          "text": [
            "하나의 정수를 입력하세요 : 8\n",
            "[ 8 16 24 32 40 48 56 64 72]\n"
          ],
          "name": "stdout"
        }
      ]
    }
  ]
}