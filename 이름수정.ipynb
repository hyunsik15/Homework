{
  "nbformat": 4,
  "nbformat_minor": 0,
  "metadata": {
    "colab": {
      "name": "이름수정.ipynb",
      "version": "0.3.2",
      "provenance": [],
      "include_colab_link": true
    },
    "kernelspec": {
      "name": "python3",
      "display_name": "Python 3"
    }
  },
  "cells": [
    {
      "cell_type": "markdown",
      "metadata": {
        "id": "view-in-github",
        "colab_type": "text"
      },
      "source": [
        "<a href=\"https://colab.research.google.com/github/hyunsik15/Homework/blob/master/%EC%9D%B4%EB%A6%84%EC%88%98%EC%A0%95.ipynb\" target=\"_parent\"><img src=\"https://colab.research.google.com/assets/colab-badge.svg\" alt=\"Open In Colab\"/></a>"
      ]
    },
    {
      "cell_type": "code",
      "metadata": {
        "id": "h30pVcyzvM0j",
        "colab_type": "code",
        "colab": {
          "base_uri": "https://localhost:8080/",
          "height": 216
        },
        "outputId": "68fc34ff-4ccf-4d2c-805a-67db44118f41"
      },
      "source": [
        "while True:\n",
        "    num_1 = input(\"숫자입력\")\n",
        "    for i in range(1,10):\n",
        "           print (num_1, \"x\", i, \"=\", num_1*i)"
      ],
      "execution_count": 0,
      "outputs": [
        {
          "output_type": "stream",
          "text": [
            "숫자입력1\n",
            "1 x 1 = 1\n",
            "1 x 2 = 11\n",
            "1 x 3 = 111\n",
            "1 x 4 = 1111\n",
            "1 x 5 = 11111\n",
            "1 x 6 = 111111\n",
            "1 x 7 = 1111111\n",
            "1 x 8 = 11111111\n",
            "1 x 9 = 111111111\n"
          ],
          "name": "stdout"
        }
      ]
    }
  ]
}