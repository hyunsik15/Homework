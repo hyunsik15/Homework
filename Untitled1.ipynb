{
  "nbformat": 4,
  "nbformat_minor": 0,
  "metadata": {
    "colab": {
      "name": "Untitled1.ipynb",
      "provenance": [],
      "include_colab_link": true
    },
    "kernelspec": {
      "name": "python3",
      "display_name": "Python 3"
    }
  },
  "cells": [
    {
      "cell_type": "markdown",
      "metadata": {
        "id": "view-in-github",
        "colab_type": "text"
      },
      "source": [
        "<a href=\"https://colab.research.google.com/github/hyunsik15/Homework/blob/master/Untitled1.ipynb\" target=\"_parent\"><img src=\"https://colab.research.google.com/assets/colab-badge.svg\" alt=\"Open In Colab\"/></a>"
      ]
    },
    {
      "cell_type": "markdown",
      "metadata": {
        "id": "n5kY9L3oQmFl",
        "colab_type": "text"
      },
      "source": [
        "1. Python 기본문법을 이용한 구구단 함수"
      ]
    },
    {
      "cell_type": "code",
      "metadata": {
        "id": "5UIGhp2JNaE1",
        "colab_type": "code",
        "colab": {}
      },
      "source": [
        "def func_1(n):\n",
        "  for x in range(1,10):\n",
        "         print('%d x %d = %d'%(n,x,n*x))"
      ],
      "execution_count": 0,
      "outputs": []
    },
    {
      "cell_type": "code",
      "metadata": {
        "id": "XbrZym3lQTU3",
        "colab_type": "code",
        "colab": {}
      },
      "source": [
        "func_1(3) # 괄호 안에 정수를 입력 후 실행하면 해당 정수의 구구단이 9줄로 출력된다."
      ],
      "execution_count": 0,
      "outputs": []
    },
    {
      "cell_type": "code",
      "metadata": {
        "id": "PbV5ASzgTgqr",
        "colab_type": "code",
        "colab": {}
      },
      "source": [
        "%timeit func_1 # 실행시간 측정"
      ],
      "execution_count": 0,
      "outputs": []
    },
    {
      "cell_type": "markdown",
      "metadata": {
        "id": "suwmdkL3RiXX",
        "colab_type": "text"
      },
      "source": [
        "2. Numpy를 이용한 구구단 함수"
      ]
    },
    {
      "cell_type": "code",
      "metadata": {
        "id": "8cctmPaERWJ5",
        "colab_type": "code",
        "colab": {}
      },
      "source": [
        "import numpy as np\n",
        "def func_2(b):\n",
        "   a = np.arange(1,10)\n",
        "   b = int(input(\"하나의 정수를 입력하세요 : \"))\n",
        "   print(a*b)"
      ],
      "execution_count": 0,
      "outputs": []
    },
    {
      "cell_type": "code",
      "metadata": {
        "id": "wURnkfXTSXrI",
        "colab_type": "code",
        "colab": {}
      },
      "source": [
        "func_2(3) # 괄호 안에 정수를 입력 후 실행하면 해당 정수의 구구단이 1줄로 출력된다."
      ],
      "execution_count": 0,
      "outputs": []
    },
    {
      "cell_type": "code",
      "metadata": {
        "id": "QAkSvDmcVsUu",
        "colab_type": "code",
        "colab": {}
      },
      "source": [
        "%timeit func_2 # 실행시간 측정"
      ],
      "execution_count": 0,
      "outputs": []
    },
    {
      "cell_type": "markdown",
      "metadata": {
        "id": "isCz9VadWj2A",
        "colab_type": "text"
      },
      "source": [
        "3. Numba - CPU\n",
        "4. Numba - CUDA (GPU)"
      ]
    },
    {
      "cell_type": "code",
      "metadata": {
        "id": "OPEVV-rUW7DH",
        "colab_type": "code",
        "colab": {}
      },
      "source": [
        "!find / -iname 'libdevice'\n",
        "!find / -iname 'libnvvm.so'"
      ],
      "execution_count": 0,
      "outputs": []
    },
    {
      "cell_type": "code",
      "metadata": {
        "id": "eF_QsXnAXJuy",
        "colab_type": "code",
        "colab": {}
      },
      "source": [
        "import os\n",
        "os.environ['NUMBAPRO_LIBDEVICE'] = \"/usr/local/cuda-10.0/nvvm/libdevice\"\n",
        "os.environ['NUMBAPRO_NVVM'] = \"/usr/local/cuda-10.0/nvvm/lib64/libnvvm.so\""
      ],
      "execution_count": 0,
      "outputs": []
    },
    {
      "cell_type": "code",
      "metadata": {
        "id": "Yk8EKfxzXMtz",
        "colab_type": "code",
        "colab": {}
      },
      "source": [
        "import numpy as np\n",
        "import numba\n",
        "from numba import vectorize\n",
        "\n",
        "a = np.arange(1,10)\n",
        "b = int(input(\"하나의 정수를 입력하세요 : \"))\n",
        "\n",
        "@numba.vectorize([numba.int64(numba.int64, numba.int64)], target='parallel') # Numba - CPU\n",
        "def add_ufunc_cpu(a, b):\n",
        "    return a * b \n",
        "  \n",
        "@vectorize(['int64(int64, int64)'], target='cuda') # Numba - CUDA (GPU)\n",
        "def add_ufunc(a, b):\n",
        "    return a * b"
      ],
      "execution_count": 0,
      "outputs": []
    },
    {
      "cell_type": "code",
      "metadata": {
        "id": "UEQdEUq0XvyH",
        "colab_type": "code",
        "colab": {}
      },
      "source": [
        "print(add_ufunc_cpu(a, b))\n",
        "print(add_ufunc(a, b))"
      ],
      "execution_count": 0,
      "outputs": []
    },
    {
      "cell_type": "code",
      "metadata": {
        "id": "8wS77zb6YZZF",
        "colab_type": "code",
        "colab": {}
      },
      "source": [
        "%timeit add_ufunc_cpu # Numba - CPU 의 실행시간 측정"
      ],
      "execution_count": 0,
      "outputs": []
    },
    {
      "cell_type": "code",
      "metadata": {
        "id": "KlvJFhCXYoaK",
        "colab_type": "code",
        "colab": {}
      },
      "source": [
        "%timeit add_ufunc # Numba - CUDA (GPU) 의 실행시간 측정"
      ],
      "execution_count": 0,
      "outputs": []
    }
  ]
}